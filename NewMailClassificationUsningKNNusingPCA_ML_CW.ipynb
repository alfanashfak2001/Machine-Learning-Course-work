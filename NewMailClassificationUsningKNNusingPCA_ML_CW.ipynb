{
 "cells": [
  {
   "cell_type": "code",
   "execution_count": 38,
   "metadata": {
    "collapsed": true
   },
   "outputs": [],
   "source": [
    "# Importing the libraries\n",
    "import numpy as np\n",
    "import matplotlib.pyplot as plt\n",
    "import pandas as pd\n"
   ]
  },
  {
   "cell_type": "code",
   "execution_count": 39,
   "outputs": [
    {
     "data": {
      "text/plain": "      word_freq_make  word_freq_address  word_freq_all  word_freq_3d  \\\n0               0.00               0.64           0.64           0.0   \n1               0.21               0.28           0.50           0.0   \n2               0.06               0.00           0.71           0.0   \n3               0.00               0.00           0.00           0.0   \n4               0.00               0.00           0.00           0.0   \n...              ...                ...            ...           ...   \n4596            0.31               0.00           0.62           0.0   \n4597            0.00               0.00           0.00           0.0   \n4598            0.30               0.00           0.30           0.0   \n4599            0.96               0.00           0.00           0.0   \n4600            0.00               0.00           0.65           0.0   \n\n      word_freq_our  word_freq_over  word_freq_remove  word_freq_internet  \\\n0              0.32            0.00              0.00                0.00   \n1              0.14            0.28              0.21                0.07   \n2              1.23            0.19              0.19                0.12   \n3              0.63            0.00              0.31                0.63   \n4              0.63            0.00              0.31                0.63   \n...             ...             ...               ...                 ...   \n4596           0.00            0.31              0.00                0.00   \n4597           0.00            0.00              0.00                0.00   \n4598           0.00            0.00              0.00                0.00   \n4599           0.32            0.00              0.00                0.00   \n4600           0.00            0.00              0.00                0.00   \n\n      word_freq_order  word_freq_mail  ...  char_freq_;  char_freq_(  \\\n0                0.00            0.00  ...        0.000        0.000   \n1                0.00            0.94  ...        0.000        0.132   \n2                0.64            0.25  ...        0.010        0.143   \n3                0.31            0.63  ...        0.000        0.137   \n4                0.31            0.63  ...        0.000        0.135   \n...               ...             ...  ...          ...          ...   \n4596             0.00            0.00  ...        0.000        0.232   \n4597             0.00            0.00  ...        0.000        0.000   \n4598             0.00            0.00  ...        0.102        0.718   \n4599             0.00            0.00  ...        0.000        0.057   \n4600             0.00            0.00  ...        0.000        0.000   \n\n      char_freq_[  char_freq_!    char_freq_$  char_freq_#  \\\n0             0.0          0.778        0.000        0.000   \n1             0.0          0.372        0.180        0.048   \n2             0.0          0.276        0.184        0.010   \n3             0.0          0.137        0.000        0.000   \n4             0.0          0.135        0.000        0.000   \n...           ...            ...          ...          ...   \n4596          0.0          0.000        0.000        0.000   \n4597          0.0          0.353        0.000        0.000   \n4598          0.0          0.000        0.000        0.000   \n4599          0.0          0.000        0.000        0.000   \n4600          0.0          0.125        0.000        0.000   \n\n      capital_run_length_average  capital_run_length_longest  \\\n0                          3.756                          61   \n1                          5.114                         101   \n2                          9.821                         485   \n3                          3.537                          40   \n4                          3.537                          40   \n...                          ...                         ...   \n4596                       1.142                           3   \n4597                       1.555                           4   \n4598                       1.404                           6   \n4599                       1.147                           5   \n4600                       1.250                           5   \n\n      capital_run_length_total     class  \n0                             278      1  \n1                            1028      1  \n2                            2259      1  \n3                             191      1  \n4                             191      1  \n...                           ...    ...  \n4596                           88      0  \n4597                           14      0  \n4598                          118      0  \n4599                           78      0  \n4600                           40      0  \n\n[4601 rows x 58 columns]",
      "text/html": "<div>\n<style scoped>\n    .dataframe tbody tr th:only-of-type {\n        vertical-align: middle;\n    }\n\n    .dataframe tbody tr th {\n        vertical-align: top;\n    }\n\n    .dataframe thead th {\n        text-align: right;\n    }\n</style>\n<table border=\"1\" class=\"dataframe\">\n  <thead>\n    <tr style=\"text-align: right;\">\n      <th></th>\n      <th>word_freq_make</th>\n      <th>word_freq_address</th>\n      <th>word_freq_all</th>\n      <th>word_freq_3d</th>\n      <th>word_freq_our</th>\n      <th>word_freq_over</th>\n      <th>word_freq_remove</th>\n      <th>word_freq_internet</th>\n      <th>word_freq_order</th>\n      <th>word_freq_mail</th>\n      <th>...</th>\n      <th>char_freq_;</th>\n      <th>char_freq_(</th>\n      <th>char_freq_[</th>\n      <th>char_freq_!</th>\n      <th>char_freq_$</th>\n      <th>char_freq_#</th>\n      <th>capital_run_length_average</th>\n      <th>capital_run_length_longest</th>\n      <th>capital_run_length_total</th>\n      <th>class</th>\n    </tr>\n  </thead>\n  <tbody>\n    <tr>\n      <th>0</th>\n      <td>0.00</td>\n      <td>0.64</td>\n      <td>0.64</td>\n      <td>0.0</td>\n      <td>0.32</td>\n      <td>0.00</td>\n      <td>0.00</td>\n      <td>0.00</td>\n      <td>0.00</td>\n      <td>0.00</td>\n      <td>...</td>\n      <td>0.000</td>\n      <td>0.000</td>\n      <td>0.0</td>\n      <td>0.778</td>\n      <td>0.000</td>\n      <td>0.000</td>\n      <td>3.756</td>\n      <td>61</td>\n      <td>278</td>\n      <td>1</td>\n    </tr>\n    <tr>\n      <th>1</th>\n      <td>0.21</td>\n      <td>0.28</td>\n      <td>0.50</td>\n      <td>0.0</td>\n      <td>0.14</td>\n      <td>0.28</td>\n      <td>0.21</td>\n      <td>0.07</td>\n      <td>0.00</td>\n      <td>0.94</td>\n      <td>...</td>\n      <td>0.000</td>\n      <td>0.132</td>\n      <td>0.0</td>\n      <td>0.372</td>\n      <td>0.180</td>\n      <td>0.048</td>\n      <td>5.114</td>\n      <td>101</td>\n      <td>1028</td>\n      <td>1</td>\n    </tr>\n    <tr>\n      <th>2</th>\n      <td>0.06</td>\n      <td>0.00</td>\n      <td>0.71</td>\n      <td>0.0</td>\n      <td>1.23</td>\n      <td>0.19</td>\n      <td>0.19</td>\n      <td>0.12</td>\n      <td>0.64</td>\n      <td>0.25</td>\n      <td>...</td>\n      <td>0.010</td>\n      <td>0.143</td>\n      <td>0.0</td>\n      <td>0.276</td>\n      <td>0.184</td>\n      <td>0.010</td>\n      <td>9.821</td>\n      <td>485</td>\n      <td>2259</td>\n      <td>1</td>\n    </tr>\n    <tr>\n      <th>3</th>\n      <td>0.00</td>\n      <td>0.00</td>\n      <td>0.00</td>\n      <td>0.0</td>\n      <td>0.63</td>\n      <td>0.00</td>\n      <td>0.31</td>\n      <td>0.63</td>\n      <td>0.31</td>\n      <td>0.63</td>\n      <td>...</td>\n      <td>0.000</td>\n      <td>0.137</td>\n      <td>0.0</td>\n      <td>0.137</td>\n      <td>0.000</td>\n      <td>0.000</td>\n      <td>3.537</td>\n      <td>40</td>\n      <td>191</td>\n      <td>1</td>\n    </tr>\n    <tr>\n      <th>4</th>\n      <td>0.00</td>\n      <td>0.00</td>\n      <td>0.00</td>\n      <td>0.0</td>\n      <td>0.63</td>\n      <td>0.00</td>\n      <td>0.31</td>\n      <td>0.63</td>\n      <td>0.31</td>\n      <td>0.63</td>\n      <td>...</td>\n      <td>0.000</td>\n      <td>0.135</td>\n      <td>0.0</td>\n      <td>0.135</td>\n      <td>0.000</td>\n      <td>0.000</td>\n      <td>3.537</td>\n      <td>40</td>\n      <td>191</td>\n      <td>1</td>\n    </tr>\n    <tr>\n      <th>...</th>\n      <td>...</td>\n      <td>...</td>\n      <td>...</td>\n      <td>...</td>\n      <td>...</td>\n      <td>...</td>\n      <td>...</td>\n      <td>...</td>\n      <td>...</td>\n      <td>...</td>\n      <td>...</td>\n      <td>...</td>\n      <td>...</td>\n      <td>...</td>\n      <td>...</td>\n      <td>...</td>\n      <td>...</td>\n      <td>...</td>\n      <td>...</td>\n      <td>...</td>\n      <td>...</td>\n    </tr>\n    <tr>\n      <th>4596</th>\n      <td>0.31</td>\n      <td>0.00</td>\n      <td>0.62</td>\n      <td>0.0</td>\n      <td>0.00</td>\n      <td>0.31</td>\n      <td>0.00</td>\n      <td>0.00</td>\n      <td>0.00</td>\n      <td>0.00</td>\n      <td>...</td>\n      <td>0.000</td>\n      <td>0.232</td>\n      <td>0.0</td>\n      <td>0.000</td>\n      <td>0.000</td>\n      <td>0.000</td>\n      <td>1.142</td>\n      <td>3</td>\n      <td>88</td>\n      <td>0</td>\n    </tr>\n    <tr>\n      <th>4597</th>\n      <td>0.00</td>\n      <td>0.00</td>\n      <td>0.00</td>\n      <td>0.0</td>\n      <td>0.00</td>\n      <td>0.00</td>\n      <td>0.00</td>\n      <td>0.00</td>\n      <td>0.00</td>\n      <td>0.00</td>\n      <td>...</td>\n      <td>0.000</td>\n      <td>0.000</td>\n      <td>0.0</td>\n      <td>0.353</td>\n      <td>0.000</td>\n      <td>0.000</td>\n      <td>1.555</td>\n      <td>4</td>\n      <td>14</td>\n      <td>0</td>\n    </tr>\n    <tr>\n      <th>4598</th>\n      <td>0.30</td>\n      <td>0.00</td>\n      <td>0.30</td>\n      <td>0.0</td>\n      <td>0.00</td>\n      <td>0.00</td>\n      <td>0.00</td>\n      <td>0.00</td>\n      <td>0.00</td>\n      <td>0.00</td>\n      <td>...</td>\n      <td>0.102</td>\n      <td>0.718</td>\n      <td>0.0</td>\n      <td>0.000</td>\n      <td>0.000</td>\n      <td>0.000</td>\n      <td>1.404</td>\n      <td>6</td>\n      <td>118</td>\n      <td>0</td>\n    </tr>\n    <tr>\n      <th>4599</th>\n      <td>0.96</td>\n      <td>0.00</td>\n      <td>0.00</td>\n      <td>0.0</td>\n      <td>0.32</td>\n      <td>0.00</td>\n      <td>0.00</td>\n      <td>0.00</td>\n      <td>0.00</td>\n      <td>0.00</td>\n      <td>...</td>\n      <td>0.000</td>\n      <td>0.057</td>\n      <td>0.0</td>\n      <td>0.000</td>\n      <td>0.000</td>\n      <td>0.000</td>\n      <td>1.147</td>\n      <td>5</td>\n      <td>78</td>\n      <td>0</td>\n    </tr>\n    <tr>\n      <th>4600</th>\n      <td>0.00</td>\n      <td>0.00</td>\n      <td>0.65</td>\n      <td>0.0</td>\n      <td>0.00</td>\n      <td>0.00</td>\n      <td>0.00</td>\n      <td>0.00</td>\n      <td>0.00</td>\n      <td>0.00</td>\n      <td>...</td>\n      <td>0.000</td>\n      <td>0.000</td>\n      <td>0.0</td>\n      <td>0.125</td>\n      <td>0.000</td>\n      <td>0.000</td>\n      <td>1.250</td>\n      <td>5</td>\n      <td>40</td>\n      <td>0</td>\n    </tr>\n  </tbody>\n</table>\n<p>4601 rows × 58 columns</p>\n</div>"
     },
     "execution_count": 39,
     "metadata": {},
     "output_type": "execute_result"
    }
   ],
   "source": [
    "# Importing the dataset\n",
    "dataset = pd.read_csv('spam2.csv')\n",
    "dataset\n"
   ],
   "metadata": {
    "collapsed": false
   }
  },
  {
   "cell_type": "markdown",
   "source": [
    "Attribute Information:\n",
    "\n",
    "The last column of 'spambase.data' denotes whether the e-mail was considered spam (1) or not (0), i.e. unsolicited commercial e-mail. Most of the attributes indicate whether a particular word or character was frequently occuring in the e-mail. The run-length attributes (55-57) measure the length of sequences of consecutive capital letters. For the statistical measures of each attribute, see the end of this file. Here are the definitions of the attributes:\n",
    "\n",
    "48 continuous real [0,100] attributes of type word_freq_WORD\n",
    "= percentage of words in the e-mail that match WORD, i.e. 100 * (number of times the WORD appears in the e-mail) / total number of words in e-mail. A \"word\" in this case is any string of alphanumeric characters bounded by non-alphanumeric characters or end-of-string.\n",
    "\n",
    "6 continuous real [0,100] attributes of type char_freq_CHAR]\n",
    "= percentage of characters in the e-mail that match CHAR, i.e. 100 * (number of CHAR occurences) / total characters in e-mail\n",
    "\n",
    "1 continuous real [1,...] attribute of type capital_run_length_average\n",
    "= average length of uninterrupted sequences of capital letters\n",
    "\n",
    "1 continuous integer [1,...] attribute of type capital_run_length_longest\n",
    "= length of longest uninterrupted sequence of capital letters\n",
    "\n",
    "1 continuous integer [1,...] attribute of type capital_run_length_total\n",
    "= sum of length of uninterrupted sequences of capital letters\n",
    "= total number of capital letters in the e-mail\n",
    "\n",
    "1 nominal {0,1} class attribute of type spam\n",
    "= denotes whether the e-mail was considered spam (1) or not (0), i.e. unsolicited commercial e-mail."
   ],
   "metadata": {
    "collapsed": false
   }
  },
  {
   "cell_type": "code",
   "execution_count": 40,
   "outputs": [
    {
     "name": "stdout",
     "output_type": "stream",
     "text": [
      "word_freq_make                 0\n",
      "word_freq_address              0\n",
      "word_freq_all                  0\n",
      "word_freq_3d                   0\n",
      "word_freq_our                  0\n",
      "word_freq_over                 0\n",
      "word_freq_remove               0\n",
      "word_freq_internet             0\n",
      "word_freq_order                0\n",
      "word_freq_mail                 0\n",
      "word_freq_receive              0\n",
      "word_freq_will                 0\n",
      "word_freq_people               0\n",
      "word_freq_report               0\n",
      "word_freq_addresses            0\n",
      "word_freq_free                 0\n",
      "word_freq_business             0\n",
      "word_freq_email                0\n",
      "word_freq_you                  0\n",
      "word_freq_credit               0\n",
      "word_freq_your                 0\n",
      "word_freq_font                 0\n",
      "word_freq_000                  0\n",
      "word_freq_money                0\n",
      "word_freq_hp                   0\n",
      "word_freq_hpl                  0\n",
      "word_freq_george               0\n",
      "word_freq_650                  0\n",
      "word_freq_lab                  0\n",
      "word_freq_labs                 0\n",
      "word_freq_telnet               0\n",
      "word_freq_857                  0\n",
      "word_freq_data                 0\n",
      "word_freq_415                  0\n",
      "word_freq_85                   0\n",
      "word_freq_technology           0\n",
      "word_freq_1999                 0\n",
      "word_freq_parts                0\n",
      "word_freq_pm                   0\n",
      "word_freq_direct               0\n",
      "word_freq_cs                   0\n",
      "word_freq_meeting              0\n",
      "word_freq_original             0\n",
      "word_freq_project              0\n",
      "word_freq_re                   0\n",
      "word_freq_edu                  0\n",
      "word_freq_table                0\n",
      "word_freq_conference           0\n",
      "char_freq_;                    0\n",
      "char_freq_(                    0\n",
      "char_freq_[                    0\n",
      "char_freq_!                    0\n",
      "char_freq_$                    0\n",
      "char_freq_#                    0\n",
      "capital_run_length_average     0\n",
      "capital_run_length_longest     0\n",
      "capital_run_length_total       0\n",
      "class                          0\n",
      "dtype: int64\n"
     ]
    }
   ],
   "source": [
    "#checking for null values in the dataset\n",
    "print(dataset.isnull().sum())"
   ],
   "metadata": {
    "collapsed": false
   }
  },
  {
   "cell_type": "code",
   "execution_count": 41,
   "outputs": [
    {
     "data": {
      "text/plain": "(4601, 58)"
     },
     "execution_count": 41,
     "metadata": {},
     "output_type": "execute_result"
    }
   ],
   "source": [
    "dataset.shape #for the data count and attribute details"
   ],
   "metadata": {
    "collapsed": false
   }
  },
  {
   "cell_type": "code",
   "execution_count": 42,
   "outputs": [
    {
     "name": "stdout",
     "output_type": "stream",
     "text": [
      "No. of spam emails : 1813\n",
      "No. of non-spam emails :  2788\n"
     ]
    }
   ],
   "source": [
    "#print all spam emails\n",
    "spam_data = dataset[dataset.iloc[:, -1] == 1].shape[0]\n",
    "print(\"No. of spam emails :\", spam_data)\n",
    "\n",
    "non_spam_data = dataset[dataset.iloc[:, -1] == 0].shape[0]\n",
    "print(\"No. of non-spam emails : \", non_spam_data)"
   ],
   "metadata": {
    "collapsed": false
   }
  },
  {
   "cell_type": "markdown",
   "source": [
    "principal Componenet Analysis\n",
    "as there are more attributes"
   ],
   "metadata": {
    "collapsed": false
   }
  },
  {
   "cell_type": "code",
   "execution_count": 43,
   "outputs": [],
   "source": [
    "from sklearn.preprocessing import StandardScaler"
   ],
   "metadata": {
    "collapsed": false
   }
  },
  {
   "cell_type": "code",
   "execution_count": 44,
   "outputs": [
    {
     "data": {
      "text/plain": "      word_freq_make  word_freq_address  word_freq_all  word_freq_3d  \\\n0          -0.342434           0.330885       0.712859       -0.0469   \n1           0.345359           0.051909       0.435130       -0.0469   \n2          -0.145921          -0.165072       0.851723       -0.0469   \n3          -0.342434          -0.165072      -0.556761       -0.0469   \n4          -0.342434          -0.165072      -0.556761       -0.0469   \n...              ...                ...            ...           ...   \n4596        0.672880          -0.165072       0.673183       -0.0469   \n4597       -0.342434          -0.165072      -0.556761       -0.0469   \n4598        0.640128          -0.165072       0.038373       -0.0469   \n4599        2.801763          -0.165072      -0.556761       -0.0469   \n4600       -0.342434          -0.165072       0.732697       -0.0469   \n\n      word_freq_our  word_freq_over  word_freq_remove  word_freq_internet  \\\n0          0.011565       -0.350266         -0.291794           -0.262562   \n1         -0.256117        0.672399          0.244743           -0.088010   \n2          1.364846        0.343685          0.193644            0.036670   \n3          0.472573       -0.350266          0.500237            1.308402   \n4          0.472573       -0.350266          0.500237            1.308402   \n...             ...             ...               ...                 ...   \n4596      -0.464314        0.781971         -0.291794           -0.262562   \n4597      -0.464314       -0.350266         -0.291794           -0.262562   \n4598      -0.464314       -0.350266         -0.291794           -0.262562   \n4599       0.011565       -0.350266         -0.291794           -0.262562   \n4600      -0.464314       -0.350266         -0.291794           -0.262562   \n\n      word_freq_order  word_freq_mail  ...  char_freq_;  char_freq_(  \\\n0           -0.323302       -0.371364  ...    -0.158453    -0.514307   \n1           -0.323302        1.086711  ...    -0.158453    -0.026007   \n2            1.974017        0.016422  ...    -0.117376     0.014684   \n3            0.789462        0.605857  ...    -0.158453    -0.007511   \n4            0.789462        0.605857  ...    -0.158453    -0.014910   \n...               ...             ...  ...          ...          ...   \n4596        -0.323302       -0.371364  ...    -0.158453     0.343917   \n4597        -0.323302       -0.371364  ...    -0.158453    -0.514307   \n4598        -0.323302       -0.371364  ...     0.260533     2.141746   \n4599        -0.323302       -0.371364  ...    -0.158453    -0.303450   \n4600        -0.323302       -0.371364  ...    -0.158453    -0.514307   \n\n      char_freq_[  char_freq_!    char_freq_$  char_freq_#  \\\n0       -0.155198       0.624007    -0.308355    -0.103048   \n1       -0.155198       0.126203     0.423783     0.008763   \n2       -0.155198       0.008496     0.440053    -0.079754   \n3       -0.155198      -0.161934    -0.308355    -0.103048   \n4       -0.155198      -0.164387    -0.308355    -0.103048   \n...           ...            ...          ...          ...   \n4596    -0.155198      -0.329912    -0.308355    -0.103048   \n4597    -0.155198       0.102907    -0.308355    -0.103048   \n4598    -0.155198      -0.329912    -0.308355    -0.103048   \n4599    -0.155198      -0.329912    -0.308355    -0.103048   \n4600    -0.155198      -0.176648    -0.308355    -0.103048   \n\n      capital_run_length_average  capital_run_length_longest  \\\n0                      -0.045247                    0.045298   \n1                      -0.002443                    0.250563   \n2                       0.145921                    2.221106   \n3                      -0.052150                   -0.062466   \n4                      -0.052150                   -0.062466   \n...                          ...                         ...   \n4596                   -0.127640                   -0.252336   \n4597                   -0.114623                   -0.247205   \n4598                   -0.119382                   -0.236941   \n4599                   -0.127483                   -0.242073   \n4600                   -0.124236                   -0.242073   \n\n      capital_run_length_total        class  \n0                       -0.008724  1.240074  \n1                        1.228324  1.240074  \n2                        3.258733  1.240074  \n3                       -0.152222  1.240074  \n4                       -0.152222  1.240074  \n...                           ...       ...  \n4596                    -0.322110 -0.806404  \n4597                    -0.444165 -0.806404  \n4598                    -0.272628 -0.806404  \n4599                    -0.338604 -0.806404  \n4600                    -0.401281 -0.806404  \n\n[4601 rows x 58 columns]",
      "text/html": "<div>\n<style scoped>\n    .dataframe tbody tr th:only-of-type {\n        vertical-align: middle;\n    }\n\n    .dataframe tbody tr th {\n        vertical-align: top;\n    }\n\n    .dataframe thead th {\n        text-align: right;\n    }\n</style>\n<table border=\"1\" class=\"dataframe\">\n  <thead>\n    <tr style=\"text-align: right;\">\n      <th></th>\n      <th>word_freq_make</th>\n      <th>word_freq_address</th>\n      <th>word_freq_all</th>\n      <th>word_freq_3d</th>\n      <th>word_freq_our</th>\n      <th>word_freq_over</th>\n      <th>word_freq_remove</th>\n      <th>word_freq_internet</th>\n      <th>word_freq_order</th>\n      <th>word_freq_mail</th>\n      <th>...</th>\n      <th>char_freq_;</th>\n      <th>char_freq_(</th>\n      <th>char_freq_[</th>\n      <th>char_freq_!</th>\n      <th>char_freq_$</th>\n      <th>char_freq_#</th>\n      <th>capital_run_length_average</th>\n      <th>capital_run_length_longest</th>\n      <th>capital_run_length_total</th>\n      <th>class</th>\n    </tr>\n  </thead>\n  <tbody>\n    <tr>\n      <th>0</th>\n      <td>-0.342434</td>\n      <td>0.330885</td>\n      <td>0.712859</td>\n      <td>-0.0469</td>\n      <td>0.011565</td>\n      <td>-0.350266</td>\n      <td>-0.291794</td>\n      <td>-0.262562</td>\n      <td>-0.323302</td>\n      <td>-0.371364</td>\n      <td>...</td>\n      <td>-0.158453</td>\n      <td>-0.514307</td>\n      <td>-0.155198</td>\n      <td>0.624007</td>\n      <td>-0.308355</td>\n      <td>-0.103048</td>\n      <td>-0.045247</td>\n      <td>0.045298</td>\n      <td>-0.008724</td>\n      <td>1.240074</td>\n    </tr>\n    <tr>\n      <th>1</th>\n      <td>0.345359</td>\n      <td>0.051909</td>\n      <td>0.435130</td>\n      <td>-0.0469</td>\n      <td>-0.256117</td>\n      <td>0.672399</td>\n      <td>0.244743</td>\n      <td>-0.088010</td>\n      <td>-0.323302</td>\n      <td>1.086711</td>\n      <td>...</td>\n      <td>-0.158453</td>\n      <td>-0.026007</td>\n      <td>-0.155198</td>\n      <td>0.126203</td>\n      <td>0.423783</td>\n      <td>0.008763</td>\n      <td>-0.002443</td>\n      <td>0.250563</td>\n      <td>1.228324</td>\n      <td>1.240074</td>\n    </tr>\n    <tr>\n      <th>2</th>\n      <td>-0.145921</td>\n      <td>-0.165072</td>\n      <td>0.851723</td>\n      <td>-0.0469</td>\n      <td>1.364846</td>\n      <td>0.343685</td>\n      <td>0.193644</td>\n      <td>0.036670</td>\n      <td>1.974017</td>\n      <td>0.016422</td>\n      <td>...</td>\n      <td>-0.117376</td>\n      <td>0.014684</td>\n      <td>-0.155198</td>\n      <td>0.008496</td>\n      <td>0.440053</td>\n      <td>-0.079754</td>\n      <td>0.145921</td>\n      <td>2.221106</td>\n      <td>3.258733</td>\n      <td>1.240074</td>\n    </tr>\n    <tr>\n      <th>3</th>\n      <td>-0.342434</td>\n      <td>-0.165072</td>\n      <td>-0.556761</td>\n      <td>-0.0469</td>\n      <td>0.472573</td>\n      <td>-0.350266</td>\n      <td>0.500237</td>\n      <td>1.308402</td>\n      <td>0.789462</td>\n      <td>0.605857</td>\n      <td>...</td>\n      <td>-0.158453</td>\n      <td>-0.007511</td>\n      <td>-0.155198</td>\n      <td>-0.161934</td>\n      <td>-0.308355</td>\n      <td>-0.103048</td>\n      <td>-0.052150</td>\n      <td>-0.062466</td>\n      <td>-0.152222</td>\n      <td>1.240074</td>\n    </tr>\n    <tr>\n      <th>4</th>\n      <td>-0.342434</td>\n      <td>-0.165072</td>\n      <td>-0.556761</td>\n      <td>-0.0469</td>\n      <td>0.472573</td>\n      <td>-0.350266</td>\n      <td>0.500237</td>\n      <td>1.308402</td>\n      <td>0.789462</td>\n      <td>0.605857</td>\n      <td>...</td>\n      <td>-0.158453</td>\n      <td>-0.014910</td>\n      <td>-0.155198</td>\n      <td>-0.164387</td>\n      <td>-0.308355</td>\n      <td>-0.103048</td>\n      <td>-0.052150</td>\n      <td>-0.062466</td>\n      <td>-0.152222</td>\n      <td>1.240074</td>\n    </tr>\n    <tr>\n      <th>...</th>\n      <td>...</td>\n      <td>...</td>\n      <td>...</td>\n      <td>...</td>\n      <td>...</td>\n      <td>...</td>\n      <td>...</td>\n      <td>...</td>\n      <td>...</td>\n      <td>...</td>\n      <td>...</td>\n      <td>...</td>\n      <td>...</td>\n      <td>...</td>\n      <td>...</td>\n      <td>...</td>\n      <td>...</td>\n      <td>...</td>\n      <td>...</td>\n      <td>...</td>\n      <td>...</td>\n    </tr>\n    <tr>\n      <th>4596</th>\n      <td>0.672880</td>\n      <td>-0.165072</td>\n      <td>0.673183</td>\n      <td>-0.0469</td>\n      <td>-0.464314</td>\n      <td>0.781971</td>\n      <td>-0.291794</td>\n      <td>-0.262562</td>\n      <td>-0.323302</td>\n      <td>-0.371364</td>\n      <td>...</td>\n      <td>-0.158453</td>\n      <td>0.343917</td>\n      <td>-0.155198</td>\n      <td>-0.329912</td>\n      <td>-0.308355</td>\n      <td>-0.103048</td>\n      <td>-0.127640</td>\n      <td>-0.252336</td>\n      <td>-0.322110</td>\n      <td>-0.806404</td>\n    </tr>\n    <tr>\n      <th>4597</th>\n      <td>-0.342434</td>\n      <td>-0.165072</td>\n      <td>-0.556761</td>\n      <td>-0.0469</td>\n      <td>-0.464314</td>\n      <td>-0.350266</td>\n      <td>-0.291794</td>\n      <td>-0.262562</td>\n      <td>-0.323302</td>\n      <td>-0.371364</td>\n      <td>...</td>\n      <td>-0.158453</td>\n      <td>-0.514307</td>\n      <td>-0.155198</td>\n      <td>0.102907</td>\n      <td>-0.308355</td>\n      <td>-0.103048</td>\n      <td>-0.114623</td>\n      <td>-0.247205</td>\n      <td>-0.444165</td>\n      <td>-0.806404</td>\n    </tr>\n    <tr>\n      <th>4598</th>\n      <td>0.640128</td>\n      <td>-0.165072</td>\n      <td>0.038373</td>\n      <td>-0.0469</td>\n      <td>-0.464314</td>\n      <td>-0.350266</td>\n      <td>-0.291794</td>\n      <td>-0.262562</td>\n      <td>-0.323302</td>\n      <td>-0.371364</td>\n      <td>...</td>\n      <td>0.260533</td>\n      <td>2.141746</td>\n      <td>-0.155198</td>\n      <td>-0.329912</td>\n      <td>-0.308355</td>\n      <td>-0.103048</td>\n      <td>-0.119382</td>\n      <td>-0.236941</td>\n      <td>-0.272628</td>\n      <td>-0.806404</td>\n    </tr>\n    <tr>\n      <th>4599</th>\n      <td>2.801763</td>\n      <td>-0.165072</td>\n      <td>-0.556761</td>\n      <td>-0.0469</td>\n      <td>0.011565</td>\n      <td>-0.350266</td>\n      <td>-0.291794</td>\n      <td>-0.262562</td>\n      <td>-0.323302</td>\n      <td>-0.371364</td>\n      <td>...</td>\n      <td>-0.158453</td>\n      <td>-0.303450</td>\n      <td>-0.155198</td>\n      <td>-0.329912</td>\n      <td>-0.308355</td>\n      <td>-0.103048</td>\n      <td>-0.127483</td>\n      <td>-0.242073</td>\n      <td>-0.338604</td>\n      <td>-0.806404</td>\n    </tr>\n    <tr>\n      <th>4600</th>\n      <td>-0.342434</td>\n      <td>-0.165072</td>\n      <td>0.732697</td>\n      <td>-0.0469</td>\n      <td>-0.464314</td>\n      <td>-0.350266</td>\n      <td>-0.291794</td>\n      <td>-0.262562</td>\n      <td>-0.323302</td>\n      <td>-0.371364</td>\n      <td>...</td>\n      <td>-0.158453</td>\n      <td>-0.514307</td>\n      <td>-0.155198</td>\n      <td>-0.176648</td>\n      <td>-0.308355</td>\n      <td>-0.103048</td>\n      <td>-0.124236</td>\n      <td>-0.242073</td>\n      <td>-0.401281</td>\n      <td>-0.806404</td>\n    </tr>\n  </tbody>\n</table>\n<p>4601 rows × 58 columns</p>\n</div>"
     },
     "execution_count": 44,
     "metadata": {},
     "output_type": "execute_result"
    }
   ],
   "source": [
    "#feature scaling process\n",
    "scaler=StandardScaler()\n",
    "F_scaled_dataset=scaler.fit_transform(dataset)\n",
    "F_scaled_dataset_table=pd.DataFrame(data=F_scaled_dataset, columns= dataset.columns)\n",
    "F_scaled_dataset_table\n",
    "\n"
   ],
   "metadata": {
    "collapsed": false
   }
  },
  {
   "cell_type": "code",
   "execution_count": 45,
   "outputs": [
    {
     "data": {
      "text/plain": "       word_freq_make  word_freq_address  word_freq_all  word_freq_3d  \\\ncount    4.601000e+03       4.601000e+03   4.601000e+03  4.601000e+03   \nmean     4.844708e-15      -9.171827e-16  -4.647855e-15 -2.025297e-15   \nstd      1.000109e+00       1.000109e+00   1.000109e+00  1.000109e+00   \nmin     -3.424337e-01      -1.650719e-01  -5.567606e-01 -4.689958e-02   \n25%     -3.424337e-01      -1.650719e-01  -5.567606e-01 -4.689958e-02   \n50%     -3.424337e-01      -1.650719e-01  -5.567606e-01 -4.689958e-02   \n75%     -3.424337e-01      -1.650719e-01   2.764271e-01 -4.689958e-02   \nmax      1.452700e+01       1.090096e+01   9.560519e+00  3.064128e+01   \n\n       word_freq_our  word_freq_over  word_freq_remove  word_freq_internet  \\\ncount   4.601000e+03    4.601000e+03      4.601000e+03        4.601000e+03   \nmean    4.101503e-16    6.654727e-15     -1.007371e-14       -7.314056e-16   \nstd     1.000109e+00    1.000109e+00      1.000109e+00        1.000109e+00   \nmin    -4.643144e-01   -3.502662e-01     -2.917939e-01       -2.625616e-01   \n25%    -4.643144e-01   -3.502662e-01     -2.917939e-01       -2.625616e-01   \n50%    -4.643144e-01   -3.502662e-01     -2.917939e-01       -2.625616e-01   \n75%     1.007920e-01   -3.502662e-01     -2.917939e-01       -2.625616e-01   \nmax     1.440691e+01    2.112571e+01      1.828261e+01        2.744125e+01   \n\n       word_freq_order  word_freq_mail  ...   char_freq_;   char_freq_(  \\\ncount     4.601000e+03    4.601000e+03  ...  4.601000e+03  4.601000e+03   \nmean      5.750405e-15   -1.858689e-15  ...  5.026818e-15 -9.130806e-16   \nstd       1.000109e+00    1.000109e+00  ...  1.000109e+00  1.000109e+00   \nmin      -3.233024e-01   -3.713644e-01  ... -1.584534e-01 -5.143065e-01   \n25%      -3.233024e-01   -3.713644e-01  ... -1.584534e-01 -5.143065e-01   \n50%      -3.233024e-01   -3.713644e-01  ... -1.584534e-01 -2.738561e-01   \n75%      -3.233024e-01   -1.231813e-01  ... -1.584534e-01  1.811501e-01   \nmax       1.855779e+01    2.782844e+01  ...  1.785384e+01  3.556066e+01   \n\n        char_freq_[  char_freq_!     char_freq_$   char_freq_#  \\\ncount  4.601000e+03   4.601000e+03  4.601000e+03  4.601000e+03   \nmean   1.540703e-16  -5.408971e-15  1.190610e-14  2.507654e-16   \nstd    1.000109e+00   1.000109e+00  1.000109e+00  1.000109e+00   \nmin   -1.551977e-01  -3.299123e-01 -3.083549e-01 -1.030484e-01   \n25%   -1.551977e-01  -3.299123e-01 -3.083549e-01 -1.030484e-01   \n50%   -1.551977e-01  -3.299123e-01 -3.083549e-01 -1.030484e-01   \n75%   -1.551977e-01   5.631450e-02 -9.684841e-02 -1.030484e-01   \nmax    3.715432e+01   3.949191e+01  2.410845e+01  4.608659e+01   \n\n       capital_run_length_average  capital_run_length_longest  \\\ncount                4.601000e+03                4.601000e+03   \nmean                 5.297599e-16                1.560007e-16   \nstd                  1.000109e+00                1.000109e+00   \nmin                 -1.321161e-01               -2.625994e-01   \n25%                 -1.135824e-01               -2.369413e-01   \n50%                 -9.189671e-02               -1.907567e-01   \n75%                 -4.682327e-02               -4.707129e-02   \nmax                  3.458704e+01                5.099205e+01   \n\n       capital_run_length_total            class  \ncount                 4.601000e+03  4.601000e+03  \nmean                  1.989160e-16  4.847966e-15  \nstd                   1.000109e+00  1.000109e+00  \nmin                  -4.656073e-01 -8.064037e-01  \n25%                  -4.095278e-01 -8.064037e-01  \n50%                  -3.105639e-01 -8.064037e-01  \n75%                  -2.851691e-02  1.240074e+00  \nmax                   2.566085e+01  1.240074e+00  \n\n[8 rows x 58 columns]",
      "text/html": "<div>\n<style scoped>\n    .dataframe tbody tr th:only-of-type {\n        vertical-align: middle;\n    }\n\n    .dataframe tbody tr th {\n        vertical-align: top;\n    }\n\n    .dataframe thead th {\n        text-align: right;\n    }\n</style>\n<table border=\"1\" class=\"dataframe\">\n  <thead>\n    <tr style=\"text-align: right;\">\n      <th></th>\n      <th>word_freq_make</th>\n      <th>word_freq_address</th>\n      <th>word_freq_all</th>\n      <th>word_freq_3d</th>\n      <th>word_freq_our</th>\n      <th>word_freq_over</th>\n      <th>word_freq_remove</th>\n      <th>word_freq_internet</th>\n      <th>word_freq_order</th>\n      <th>word_freq_mail</th>\n      <th>...</th>\n      <th>char_freq_;</th>\n      <th>char_freq_(</th>\n      <th>char_freq_[</th>\n      <th>char_freq_!</th>\n      <th>char_freq_$</th>\n      <th>char_freq_#</th>\n      <th>capital_run_length_average</th>\n      <th>capital_run_length_longest</th>\n      <th>capital_run_length_total</th>\n      <th>class</th>\n    </tr>\n  </thead>\n  <tbody>\n    <tr>\n      <th>count</th>\n      <td>4.601000e+03</td>\n      <td>4.601000e+03</td>\n      <td>4.601000e+03</td>\n      <td>4.601000e+03</td>\n      <td>4.601000e+03</td>\n      <td>4.601000e+03</td>\n      <td>4.601000e+03</td>\n      <td>4.601000e+03</td>\n      <td>4.601000e+03</td>\n      <td>4.601000e+03</td>\n      <td>...</td>\n      <td>4.601000e+03</td>\n      <td>4.601000e+03</td>\n      <td>4.601000e+03</td>\n      <td>4.601000e+03</td>\n      <td>4.601000e+03</td>\n      <td>4.601000e+03</td>\n      <td>4.601000e+03</td>\n      <td>4.601000e+03</td>\n      <td>4.601000e+03</td>\n      <td>4.601000e+03</td>\n    </tr>\n    <tr>\n      <th>mean</th>\n      <td>4.844708e-15</td>\n      <td>-9.171827e-16</td>\n      <td>-4.647855e-15</td>\n      <td>-2.025297e-15</td>\n      <td>4.101503e-16</td>\n      <td>6.654727e-15</td>\n      <td>-1.007371e-14</td>\n      <td>-7.314056e-16</td>\n      <td>5.750405e-15</td>\n      <td>-1.858689e-15</td>\n      <td>...</td>\n      <td>5.026818e-15</td>\n      <td>-9.130806e-16</td>\n      <td>1.540703e-16</td>\n      <td>-5.408971e-15</td>\n      <td>1.190610e-14</td>\n      <td>2.507654e-16</td>\n      <td>5.297599e-16</td>\n      <td>1.560007e-16</td>\n      <td>1.989160e-16</td>\n      <td>4.847966e-15</td>\n    </tr>\n    <tr>\n      <th>std</th>\n      <td>1.000109e+00</td>\n      <td>1.000109e+00</td>\n      <td>1.000109e+00</td>\n      <td>1.000109e+00</td>\n      <td>1.000109e+00</td>\n      <td>1.000109e+00</td>\n      <td>1.000109e+00</td>\n      <td>1.000109e+00</td>\n      <td>1.000109e+00</td>\n      <td>1.000109e+00</td>\n      <td>...</td>\n      <td>1.000109e+00</td>\n      <td>1.000109e+00</td>\n      <td>1.000109e+00</td>\n      <td>1.000109e+00</td>\n      <td>1.000109e+00</td>\n      <td>1.000109e+00</td>\n      <td>1.000109e+00</td>\n      <td>1.000109e+00</td>\n      <td>1.000109e+00</td>\n      <td>1.000109e+00</td>\n    </tr>\n    <tr>\n      <th>min</th>\n      <td>-3.424337e-01</td>\n      <td>-1.650719e-01</td>\n      <td>-5.567606e-01</td>\n      <td>-4.689958e-02</td>\n      <td>-4.643144e-01</td>\n      <td>-3.502662e-01</td>\n      <td>-2.917939e-01</td>\n      <td>-2.625616e-01</td>\n      <td>-3.233024e-01</td>\n      <td>-3.713644e-01</td>\n      <td>...</td>\n      <td>-1.584534e-01</td>\n      <td>-5.143065e-01</td>\n      <td>-1.551977e-01</td>\n      <td>-3.299123e-01</td>\n      <td>-3.083549e-01</td>\n      <td>-1.030484e-01</td>\n      <td>-1.321161e-01</td>\n      <td>-2.625994e-01</td>\n      <td>-4.656073e-01</td>\n      <td>-8.064037e-01</td>\n    </tr>\n    <tr>\n      <th>25%</th>\n      <td>-3.424337e-01</td>\n      <td>-1.650719e-01</td>\n      <td>-5.567606e-01</td>\n      <td>-4.689958e-02</td>\n      <td>-4.643144e-01</td>\n      <td>-3.502662e-01</td>\n      <td>-2.917939e-01</td>\n      <td>-2.625616e-01</td>\n      <td>-3.233024e-01</td>\n      <td>-3.713644e-01</td>\n      <td>...</td>\n      <td>-1.584534e-01</td>\n      <td>-5.143065e-01</td>\n      <td>-1.551977e-01</td>\n      <td>-3.299123e-01</td>\n      <td>-3.083549e-01</td>\n      <td>-1.030484e-01</td>\n      <td>-1.135824e-01</td>\n      <td>-2.369413e-01</td>\n      <td>-4.095278e-01</td>\n      <td>-8.064037e-01</td>\n    </tr>\n    <tr>\n      <th>50%</th>\n      <td>-3.424337e-01</td>\n      <td>-1.650719e-01</td>\n      <td>-5.567606e-01</td>\n      <td>-4.689958e-02</td>\n      <td>-4.643144e-01</td>\n      <td>-3.502662e-01</td>\n      <td>-2.917939e-01</td>\n      <td>-2.625616e-01</td>\n      <td>-3.233024e-01</td>\n      <td>-3.713644e-01</td>\n      <td>...</td>\n      <td>-1.584534e-01</td>\n      <td>-2.738561e-01</td>\n      <td>-1.551977e-01</td>\n      <td>-3.299123e-01</td>\n      <td>-3.083549e-01</td>\n      <td>-1.030484e-01</td>\n      <td>-9.189671e-02</td>\n      <td>-1.907567e-01</td>\n      <td>-3.105639e-01</td>\n      <td>-8.064037e-01</td>\n    </tr>\n    <tr>\n      <th>75%</th>\n      <td>-3.424337e-01</td>\n      <td>-1.650719e-01</td>\n      <td>2.764271e-01</td>\n      <td>-4.689958e-02</td>\n      <td>1.007920e-01</td>\n      <td>-3.502662e-01</td>\n      <td>-2.917939e-01</td>\n      <td>-2.625616e-01</td>\n      <td>-3.233024e-01</td>\n      <td>-1.231813e-01</td>\n      <td>...</td>\n      <td>-1.584534e-01</td>\n      <td>1.811501e-01</td>\n      <td>-1.551977e-01</td>\n      <td>5.631450e-02</td>\n      <td>-9.684841e-02</td>\n      <td>-1.030484e-01</td>\n      <td>-4.682327e-02</td>\n      <td>-4.707129e-02</td>\n      <td>-2.851691e-02</td>\n      <td>1.240074e+00</td>\n    </tr>\n    <tr>\n      <th>max</th>\n      <td>1.452700e+01</td>\n      <td>1.090096e+01</td>\n      <td>9.560519e+00</td>\n      <td>3.064128e+01</td>\n      <td>1.440691e+01</td>\n      <td>2.112571e+01</td>\n      <td>1.828261e+01</td>\n      <td>2.744125e+01</td>\n      <td>1.855779e+01</td>\n      <td>2.782844e+01</td>\n      <td>...</td>\n      <td>1.785384e+01</td>\n      <td>3.556066e+01</td>\n      <td>3.715432e+01</td>\n      <td>3.949191e+01</td>\n      <td>2.410845e+01</td>\n      <td>4.608659e+01</td>\n      <td>3.458704e+01</td>\n      <td>5.099205e+01</td>\n      <td>2.566085e+01</td>\n      <td>1.240074e+00</td>\n    </tr>\n  </tbody>\n</table>\n<p>8 rows × 58 columns</p>\n</div>"
     },
     "execution_count": 45,
     "metadata": {},
     "output_type": "execute_result"
    }
   ],
   "source": [
    "F_scaled_dataset_table.describe()"
   ],
   "metadata": {
    "collapsed": false
   }
  },
  {
   "cell_type": "code",
   "execution_count": 46,
   "outputs": [],
   "source": [
    "from sklearn.decomposition import PCA"
   ],
   "metadata": {
    "collapsed": false
   }
  },
  {
   "cell_type": "code",
   "execution_count": 47,
   "outputs": [
    {
     "data": {
      "text/plain": "(4601, 5)"
     },
     "execution_count": 47,
     "metadata": {},
     "output_type": "execute_result"
    }
   ],
   "source": [
    "pca=PCA(n_components=5)\n",
    "New_dataset=pca.fit_transform(F_scaled_dataset)\n",
    "New_dataset.shape"
   ],
   "metadata": {
    "collapsed": false
   }
  },
  {
   "cell_type": "code",
   "execution_count": 48,
   "outputs": [
    {
     "data": {
      "text/plain": "array([0.11549281, 0.06372187, 0.0346963 , 0.02783112, 0.02681454])"
     },
     "execution_count": 48,
     "metadata": {},
     "output_type": "execute_result"
    }
   ],
   "source": [
    "pca.explained_variance_ratio_"
   ],
   "metadata": {
    "collapsed": false
   }
  },
  {
   "cell_type": "code",
   "execution_count": 49,
   "outputs": [],
   "source": [
    "#details of the final dataset after principal component analysis\n",
    "New_Dataset=pd.DataFrame(data=New_dataset,columns=['PCA_1','PCA_2','PCA_3','PCA_4','PCA_5'])\n"
   ],
   "metadata": {
    "collapsed": false
   }
  },
  {
   "cell_type": "code",
   "execution_count": 50,
   "outputs": [
    {
     "data": {
      "text/plain": "       PCA_1     PCA_2     PCA_3     PCA_4     PCA_5\n0  -0.899005  0.361066 -0.668065  0.363061 -0.263454\n1  -1.434347  2.225016  0.106312 -0.435848 -0.189267\n2  -1.831251  4.828961  3.521249 -1.099644  0.762213\n3  -0.992334  0.787752 -0.629473  0.014461 -0.123440\n4  -0.993228  0.787010 -0.631528  0.014356 -0.123537\n5  -0.649466  0.007900 -0.515226  0.514730  0.156430\n6  -1.237704  1.327004 -1.722557 -0.137529  0.844822\n7  -0.661544  0.010842 -0.560401  0.503730  0.156800\n8  -1.577184  3.621178  1.675196 -0.353783  1.402414\n9  -1.025128  0.745957 -0.030539  0.356213 -0.191078\n10 -0.438424  2.059931 -1.645228 -0.642418 -0.620956\n11 -0.791015 -0.006739 -0.592460  0.519931 -0.398506\n12 -0.860975  0.352122 -0.666774  0.349349 -0.297014\n13 -1.267203  1.347829 -1.489396 -0.345634  0.001296\n14 -1.540452  2.015587 -1.747879  0.184737 -0.679480\n15 -0.548290  0.750205 -0.251002 -0.556567 -0.144828\n16 -0.856725  0.086013 -1.000372  0.497026 -0.165390\n17 -1.028898  0.890055  0.447956  0.614673 -0.650929\n18 -0.994692  0.778581 -0.902250  0.047074 -0.168953\n19  0.044975  4.240819 -0.063464 -1.103288 -0.275231",
      "text/html": "<div>\n<style scoped>\n    .dataframe tbody tr th:only-of-type {\n        vertical-align: middle;\n    }\n\n    .dataframe tbody tr th {\n        vertical-align: top;\n    }\n\n    .dataframe thead th {\n        text-align: right;\n    }\n</style>\n<table border=\"1\" class=\"dataframe\">\n  <thead>\n    <tr style=\"text-align: right;\">\n      <th></th>\n      <th>PCA_1</th>\n      <th>PCA_2</th>\n      <th>PCA_3</th>\n      <th>PCA_4</th>\n      <th>PCA_5</th>\n    </tr>\n  </thead>\n  <tbody>\n    <tr>\n      <th>0</th>\n      <td>-0.899005</td>\n      <td>0.361066</td>\n      <td>-0.668065</td>\n      <td>0.363061</td>\n      <td>-0.263454</td>\n    </tr>\n    <tr>\n      <th>1</th>\n      <td>-1.434347</td>\n      <td>2.225016</td>\n      <td>0.106312</td>\n      <td>-0.435848</td>\n      <td>-0.189267</td>\n    </tr>\n    <tr>\n      <th>2</th>\n      <td>-1.831251</td>\n      <td>4.828961</td>\n      <td>3.521249</td>\n      <td>-1.099644</td>\n      <td>0.762213</td>\n    </tr>\n    <tr>\n      <th>3</th>\n      <td>-0.992334</td>\n      <td>0.787752</td>\n      <td>-0.629473</td>\n      <td>0.014461</td>\n      <td>-0.123440</td>\n    </tr>\n    <tr>\n      <th>4</th>\n      <td>-0.993228</td>\n      <td>0.787010</td>\n      <td>-0.631528</td>\n      <td>0.014356</td>\n      <td>-0.123537</td>\n    </tr>\n    <tr>\n      <th>5</th>\n      <td>-0.649466</td>\n      <td>0.007900</td>\n      <td>-0.515226</td>\n      <td>0.514730</td>\n      <td>0.156430</td>\n    </tr>\n    <tr>\n      <th>6</th>\n      <td>-1.237704</td>\n      <td>1.327004</td>\n      <td>-1.722557</td>\n      <td>-0.137529</td>\n      <td>0.844822</td>\n    </tr>\n    <tr>\n      <th>7</th>\n      <td>-0.661544</td>\n      <td>0.010842</td>\n      <td>-0.560401</td>\n      <td>0.503730</td>\n      <td>0.156800</td>\n    </tr>\n    <tr>\n      <th>8</th>\n      <td>-1.577184</td>\n      <td>3.621178</td>\n      <td>1.675196</td>\n      <td>-0.353783</td>\n      <td>1.402414</td>\n    </tr>\n    <tr>\n      <th>9</th>\n      <td>-1.025128</td>\n      <td>0.745957</td>\n      <td>-0.030539</td>\n      <td>0.356213</td>\n      <td>-0.191078</td>\n    </tr>\n    <tr>\n      <th>10</th>\n      <td>-0.438424</td>\n      <td>2.059931</td>\n      <td>-1.645228</td>\n      <td>-0.642418</td>\n      <td>-0.620956</td>\n    </tr>\n    <tr>\n      <th>11</th>\n      <td>-0.791015</td>\n      <td>-0.006739</td>\n      <td>-0.592460</td>\n      <td>0.519931</td>\n      <td>-0.398506</td>\n    </tr>\n    <tr>\n      <th>12</th>\n      <td>-0.860975</td>\n      <td>0.352122</td>\n      <td>-0.666774</td>\n      <td>0.349349</td>\n      <td>-0.297014</td>\n    </tr>\n    <tr>\n      <th>13</th>\n      <td>-1.267203</td>\n      <td>1.347829</td>\n      <td>-1.489396</td>\n      <td>-0.345634</td>\n      <td>0.001296</td>\n    </tr>\n    <tr>\n      <th>14</th>\n      <td>-1.540452</td>\n      <td>2.015587</td>\n      <td>-1.747879</td>\n      <td>0.184737</td>\n      <td>-0.679480</td>\n    </tr>\n    <tr>\n      <th>15</th>\n      <td>-0.548290</td>\n      <td>0.750205</td>\n      <td>-0.251002</td>\n      <td>-0.556567</td>\n      <td>-0.144828</td>\n    </tr>\n    <tr>\n      <th>16</th>\n      <td>-0.856725</td>\n      <td>0.086013</td>\n      <td>-1.000372</td>\n      <td>0.497026</td>\n      <td>-0.165390</td>\n    </tr>\n    <tr>\n      <th>17</th>\n      <td>-1.028898</td>\n      <td>0.890055</td>\n      <td>0.447956</td>\n      <td>0.614673</td>\n      <td>-0.650929</td>\n    </tr>\n    <tr>\n      <th>18</th>\n      <td>-0.994692</td>\n      <td>0.778581</td>\n      <td>-0.902250</td>\n      <td>0.047074</td>\n      <td>-0.168953</td>\n    </tr>\n    <tr>\n      <th>19</th>\n      <td>0.044975</td>\n      <td>4.240819</td>\n      <td>-0.063464</td>\n      <td>-1.103288</td>\n      <td>-0.275231</td>\n    </tr>\n  </tbody>\n</table>\n</div>"
     },
     "execution_count": 50,
     "metadata": {},
     "output_type": "execute_result"
    }
   ],
   "source": [
    "New_Dataset.head(20)"
   ],
   "metadata": {
    "collapsed": false
   }
  },
  {
   "cell_type": "code",
   "execution_count": 51,
   "outputs": [
    {
     "data": {
      "text/plain": "<Figure size 640x480 with 1 Axes>",
      "image/png": "[encoded data removed]"
     },
     "metadata": {},
     "output_type": "display_data"
    }
   ],
   "source": [
    "principalComponents = pca.fit_transform(New_Dataset)\n",
    "plt.figure()\n",
    "plt.plot(np.cumsum(pca.explained_variance_ratio_))\n",
    "plt.xlabel('Number of Components')\n",
    "plt.ylabel('Variance (%)')\n",
    "plt.title('Explained Variance')\n",
    "plt.show()"
   ],
   "metadata": {
    "collapsed": false
   }
  },
  {
   "cell_type": "code",
   "execution_count": 52,
   "outputs": [],
   "source": [
    "from sklearn.model_selection import train_test_split\n",
    "X = New_Dataset.iloc[:, :-1],  # Features (all columns except the last one)\n",
    "y = dataset.iloc[:, -1],   # Target variable (last column)\n",
    "X_train, X_test, y_train, y_test = train_test_split(New_Dataset.iloc[:, :-1], dataset.iloc[:, -1], test_size=0.25, random_state=2)"
   ],
   "metadata": {
    "collapsed": false
   }
  },
  {
   "cell_type": "code",
   "execution_count": 53,
   "outputs": [
    {
     "name": "stdout",
     "output_type": "stream",
     "text": [
      "Training subset shape: (3450, 4) (3450,)\n",
      "Testing subset shape: (1151, 4) (1151,)\n"
     ]
    }
   ],
   "source": [
    "# Print the shapes of the train test data\n",
    "print(\"Training subset shape:\", X_train.shape, y_train.shape)\n",
    "print(\"Testing subset shape:\", X_test.shape, y_test.shape)"
   ],
   "metadata": {
    "collapsed": false
   }
  },
  {
   "cell_type": "code",
   "execution_count": 54,
   "outputs": [
    {
     "data": {
      "text/plain": "KNeighborsClassifier(n_neighbors=3)"
     },
     "execution_count": 54,
     "metadata": {},
     "output_type": "execute_result"
    }
   ],
   "source": [
    "from sklearn.neighbors import KNeighborsClassifier\n",
    "\n",
    "knn = KNeighborsClassifier(n_neighbors= 3)\n",
    "knn.fit(X_train,y_train)"
   ],
   "metadata": {
    "collapsed": false
   }
  },
  {
   "cell_type": "code",
   "execution_count": 55,
   "outputs": [
    {
     "name": "stderr",
     "output_type": "stream",
     "text": [
      "C:\\ProgramData\\Anaconda3\\lib\\site-packages\\sklearn\\neighbors\\_classification.py:228: FutureWarning: Unlike other reduction functions (e.g. `skew`, `kurtosis`), the default behavior of `mode` typically preserves the axis it acts along. In SciPy 1.11.0, this behavior will change: the default value of `keepdims` will become False, the `axis` over which the statistic is taken will be eliminated, and the value None will no longer be accepted. Set `keepdims` to True or False to avoid this warning.\n",
      "  mode, _ = stats.mode(_y[neigh_ind, k], axis=1)\n"
     ]
    },
    {
     "data": {
      "text/plain": "<Figure size 640x480 with 2 Axes>",
      "image/png": "[encoded data removed]"
     },
     "metadata": {},
     "output_type": "display_data"
    }
   ],
   "source": [
    "from sklearn.metrics import confusion_matrix, ConfusionMatrixDisplay\n",
    "y_pred = knn.predict(X_test)\n",
    "\n",
    "# Creating confusion matrix\n",
    "con_mtrx = confusion_matrix(y_test, y_pred)\n",
    "ConfusionMatrixDisplay(confusion_matrix=con_mtrx).plot();"
   ],
   "metadata": {
    "collapsed": false
   }
  },
  {
   "cell_type": "code",
   "execution_count": 56,
   "outputs": [
    {
     "name": "stdout",
     "output_type": "stream",
     "text": [
      "              precision    recall  f1-score   support\n",
      "\n",
      "           0       0.97      0.97      0.97       678\n",
      "           1       0.96      0.96      0.96       473\n",
      "\n",
      "    accuracy                           0.97      1151\n",
      "   macro avg       0.96      0.96      0.96      1151\n",
      "weighted avg       0.97      0.97      0.97      1151\n",
      "\n"
     ]
    }
   ],
   "source": [
    "from sklearn.metrics import classification_report\n",
    "\n",
    "print(classification_report(y_test, y_pred))"
   ],
   "metadata": {
    "collapsed": false
   }
  }
 ],
 "metadata": {
  "kernelspec": {
   "display_name": "Python 3",
   "language": "python",
   "name": "python3"
  },
  "language_info": {
   "codemirror_mode": {
    "name": "ipython",
    "version": 2
   },
   "file_extension": ".py",
   "mimetype": "text/x-python",
   "name": "python",
   "nbconvert_exporter": "python",
   "pygments_lexer": "ipython2",
   "version": "2.7.6"
  }
 },
 "nbformat": 4,
 "nbformat_minor": 0
}
